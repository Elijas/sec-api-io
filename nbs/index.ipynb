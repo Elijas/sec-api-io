{
 "cells": [
  {
   "attachments": {},
   "cell_type": "markdown",
   "metadata": {},
   "source": [
    "# sec-api-io"
   ]
  },
  {
   "attachments": {},
   "cell_type": "markdown",
   "metadata": {},
   "source": [
    "<a href=\"https://github.com/elijas/sec-api-io/actions/workflows/test.yaml\"><img alt=\"GitHub Workflow Status\" src=\"https://img.shields.io/github/actions/workflow/status/elijas/sec-api-io/test.yaml?label=build\"></a>\n",
    "<a href=\"https://pypi.org/project/sec-api-io/\"><img alt=\"PyPI - Python Version\" src=\"https://img.shields.io/pypi/pyversions/sec-api-io\"></a>\n",
    "<a href=\"https://badge.fury.io/py/sec-api-io\"><img src=\"https://badge.fury.io/py/sec-api-io.svg\" alt=\"PyPI version\" /></a>\n",
    "<a href=\"LICENSE\"><img src=\"https://img.shields.io/github/license/elijas/sec-api-io.svg\" alt=\"Licence\"></a>"
   ]
  },
  {
   "attachments": {},
   "cell_type": "markdown",
   "metadata": {},
   "source": [
    "Unofficial wrapper for the [sec-api.io API](https://sec-api.io). Built with [nbdev](https://nbdev.fast.ai/)."
   ]
  },
  {
   "attachments": {},
   "cell_type": "markdown",
   "metadata": {},
   "source": [
    "## Install and Setup"
   ]
  },
  {
   "attachments": {},
   "cell_type": "markdown",
   "metadata": {},
   "source": [
    "Run in terminal:"
   ]
  },
  {
   "attachments": {},
   "cell_type": "markdown",
   "metadata": {},
   "source": [
    "```sh\n",
    "pip install sec_api_io\n",
    "```"
   ]
  },
  {
   "attachments": {},
   "cell_type": "markdown",
   "metadata": {},
   "source": [
    "## How to use"
   ]
  },
  {
   "attachments": {},
   "cell_type": "markdown",
   "metadata": {},
   "source": [
    "### (Optional) Set API key with `.env` file"
   ]
  },
  {
   "attachments": {},
   "cell_type": "markdown",
   "metadata": {},
   "source": [
    "It's highly recommended to set your API key in a `.env` file to avoid setting it in the code."
   ]
  },
  {
   "attachments": {},
   "cell_type": "markdown",
   "metadata": {},
   "source": [
    "1. Make a copy of the `.env.template` file in the root directory of the project.\n",
    "2. Rename the copied file to `.env`.\n",
    "3. Open the `.env` file and locate the `SECAPIO_API_KEY` variable.\n",
    "4. Fill in the value for the `SECAPIO_API_KEY` variable. \n",
    "    - You can obtain a free key from [sec-api.io](https://sec-api.io/). \n",
    "    - Note: The first 100 requests are free. \n",
    "5. Save the `.env` file next to your notebook or script.\n",
    "\n",
    "> **Important Note:** Depending on your geographical location, you might need to use a VPN set to a United States location to access [sec-api.io](https://sec-api.io/) API."
   ]
  },
  {
   "attachments": {},
   "cell_type": "markdown",
   "metadata": {},
   "source": [
    "Let's load the API key from .env file into the environment variable SECAPIO_API_KEY"
   ]
  },
  {
   "cell_type": "code",
   "execution_count": null,
   "metadata": {},
   "outputs": [],
   "source": [
    "!pip install -q python-dotenv"
   ]
  },
  {
   "cell_type": "code",
   "execution_count": null,
   "metadata": {},
   "outputs": [
    {
     "data": {
      "text/plain": [
       "True"
      ]
     },
     "execution_count": null,
     "metadata": {},
     "output_type": "execute_result"
    }
   ],
   "source": [
    "from dotenv import load_dotenv\n",
    "\n",
    "load_dotenv() # Load the API key from .env file into the environment variable SECAPIO_API_KEY"
   ]
  },
  {
   "cell_type": "code",
   "execution_count": null,
   "metadata": {},
   "outputs": [],
   "source": [
    "import os \n",
    "from dotenv import load_dotenv\n",
    "\n",
    "if 'SECAPIO_API_KEY' not in os.environ:\n",
    "    assert load_dotenv()\n",
    "    \n",
    "assert 'SECAPIO_API_KEY' in os.environ"
   ]
  },
  {
   "cell_type": "code",
   "execution_count": null,
   "metadata": {},
   "outputs": [],
   "source": [
    "import os \n",
    "from dotenv import load_dotenv\n",
    "\n",
    "if 'SECAPIO_API_KEY' not in os.environ:\n",
    "    assert load_dotenv()\n",
    "    \n",
    "assert 'SECAPIO_API_KEY' in os.environ\n",
    "assert os.environ['SECAPIO_API_KEY'].strip()"
   ]
  },
  {
   "attachments": {},
   "cell_type": "markdown",
   "metadata": {},
   "source": [
    "### Get latest 10-Q report by ticker"
   ]
  },
  {
   "cell_type": "code",
   "execution_count": null,
   "metadata": {},
   "outputs": [
    {
     "data": {
      "text/plain": [
       "'https://www.sec.gov/Archives/edgar/data/320193/000032019323000077/aapl-20230701.htm'"
      ]
     },
     "execution_count": null,
     "metadata": {},
     "output_type": "execute_result"
    }
   ],
   "source": [
    "from sec_api_io.secapio_data_retriever import SecapioDataRetriever\n",
    "\n",
    "retriever = SecapioDataRetriever()\n",
    "# retriever = SecapioDataRetriever(api_key=...) # If you don't want to use .env file\n",
    "\n",
    "metadata = retriever.retrieve_report_metadata('10-Q', latest_from_ticker='AAPL')\n",
    "url = metadata[\"linkToFilingDetails\"]\n",
    "\n",
    "assert url.startswith('https://www.sec.gov/Archives/edgar/data/')\n",
    "url"
   ]
  },
  {
   "attachments": {},
   "cell_type": "markdown",
   "metadata": {},
   "source": [
    "### Download 10-Q HTML split into sections"
   ]
  },
  {
   "cell_type": "code",
   "execution_count": null,
   "metadata": {},
   "outputs": [],
   "source": [
    "html = retriever.get_report_html('10-Q', url)\n",
    "assert html"
   ]
  },
  {
   "cell_type": "code",
   "execution_count": null,
   "metadata": {},
   "outputs": [
    {
     "name": "stdout",
     "output_type": "stream",
     "text": [
      "<top-level-section-separator id=\"part1item1\" title=\"Financial Statemen...\n",
      "<span style=\"color:#000000;font-family:'Helvetica',sans-serif;fon...\n",
      "<top-level-section-separator id=\"part1item2\" title=\"Management's Discu...\n",
      "<span style=\"color:#000000;font-family:'Helvetica',sans-serif;fon...\n",
      "<top-level-section-separator id=\"part1item3\" title=\"Quantitative and Q...\n",
      "<span style=\"color:#000000;font-family:'Helvetica',sans-serif;fon...\n",
      "<top-level-section-separator id=\"part1item4\" title=\"Controls and Proce...\n",
      "<span style=\"color:#000000;font-family:'Helvetica',sans-serif;fon...\n",
      "<top-level-section-separator id=\"part2item1\" title=\"Legal Proceedings\"...\n",
      "<span style=\"color:#000000;font-family:'Helvetica',sans-serif;fon...\n",
      "<top-level-section-separator id=\"part2item1a\" title=\"Risk Factors\" com...\n",
      "<span style=\"color:#000000;font-family:'Helvetica',sans-serif;fon...\n",
      "<top-level-section-separator id=\"part2item2\" title=\"Unregistered Sales...\n",
      "<span style=\"color:#000000;font-family:'Helvetica',sans-serif;fon...\n",
      "<top-level-section-separator id=\"part2item3\" title=\"Defaults Upon Seni...\n",
      "<span style=\"color:#000000;font-family:'Helvetica',sans-serif;fon...\n",
      "<top-level-section-separator id=\"part2item4\" title=\"Mine Safety Disclo...\n",
      "<span style=\"color:#000000;font-family:'Helvetica',sans-serif;fon...\n",
      "<top-level-section-separator id=\"part2item5\" title=\"Other Information\"...\n",
      "<span style=\"color:#000000;font-family:'Helvetica',sans-serif;fon...\n",
      "<top-level-section-separator id=\"part2item6\" title=\"Exhibits\" comment=...\n",
      "<span style=\"color:#000000;font-family:'Helvetica',sans-serif;fon...\n"
     ]
    }
   ],
   "source": [
    "for line in html.splitlines():\n",
    "    print(line[:65] + '...')"
   ]
  },
  {
   "cell_type": "markdown",
   "metadata": {},
   "source": [
    "## Contributing\n",
    "\n",
    "Follow these steps to install the project locally for development:\n",
    "\n",
    "1. Install the project with the command `pip install -e \".[dev]\"`.\n",
    "\n",
    "> **Note**\n",
    "We highly recommend using virtual environments for Python development. If you'd like to use virtual environments, follow these steps instead:\n",
    "> - Create a virtual environment `python3 -m venv .venv`\n",
    "> - Activate the virtual environment `source .venv/bin/activate`\n",
    "> - Install the project with the command `pip install -e \".[dev]\"`"
   ]
  }
 ],
 "metadata": {
  "kernelspec": {
   "display_name": "python3",
   "language": "python",
   "name": "python3"
  }
 },
 "nbformat": 4,
 "nbformat_minor": 4
}
