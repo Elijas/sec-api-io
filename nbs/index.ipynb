{
 "cells": [
  {
   "attachments": {},
   "cell_type": "markdown",
   "metadata": {},
   "source": [
    "# sec-api-io\n",
    "\n",
    "> Unofficial facade for the sec-api.io, SEC EDGAR 10-Q document downloader"
   ]
  },
  {
   "attachments": {},
   "cell_type": "markdown",
   "metadata": {},
   "source": [
    "## Install and Setup"
   ]
  },
  {
   "attachments": {},
   "cell_type": "markdown",
   "metadata": {},
   "source": [
    "Run in terminal:"
   ]
  },
  {
   "attachments": {},
   "cell_type": "markdown",
   "metadata": {},
   "source": [
    "```sh\n",
    "pip install sec_api_io\n",
    "```"
   ]
  },
  {
   "attachments": {},
   "cell_type": "markdown",
   "metadata": {},
   "source": [
    "## How to use"
   ]
  },
  {
   "attachments": {},
   "cell_type": "markdown",
   "metadata": {},
   "source": [
    "### Set API key"
   ]
  },
  {
   "attachments": {},
   "cell_type": "markdown",
   "metadata": {},
   "source": [
    "1. Make a copy of the `.env.template` file in the root directory of the project.\n",
    "2. Rename the copied file to `.env`.\n",
    "3. Open the `.env` file and locate the `SECAPIO_API_KEY` variable.\n",
    "4. Fill in the value for the `SECAPIO_API_KEY` variable. \n",
    "    - You can obtain a free key from [sec-api.io](https://sec-api.io/). \n",
    "    - Note: The first 100 requests are free. \n",
    "5. Save the `.env` file next to your notebook or script.\n",
    "\n",
    "> **Important Note:** Depending on your geographical location, you might need to use a VPN set to a United States location to access [sec-api.io](https://sec-api.io/) API."
   ]
  },
  {
   "attachments": {},
   "cell_type": "markdown",
   "metadata": {},
   "source": [
    "Let's load the API key from .env file into the environment variable SECAPIO_API_KEY"
   ]
  },
  {
   "cell_type": "code",
   "execution_count": null,
   "metadata": {},
   "outputs": [],
   "source": [
    "import os \n",
    "from dotenv import load_dotenv\n",
    "\n",
    "if 'SECAPIO_API_KEY' not in os.environ:\n",
    "    assert load_dotenv()"
   ]
  },
  {
   "attachments": {},
   "cell_type": "markdown",
   "metadata": {},
   "source": [
    "### Get latest 10-Q report by ticker"
   ]
  },
  {
   "cell_type": "code",
   "execution_count": null,
   "metadata": {},
   "outputs": [
    {
     "data": {
      "text/plain": [
       "'https://www.sec.gov/Archives/edgar/data/320193/000032019323000077/aapl-20230701.htm'"
      ]
     },
     "execution_count": null,
     "metadata": {},
     "output_type": "execute_result"
    }
   ],
   "source": [
    "from sec_api_io.secapio_data_retriever import SecapioDataRetriever\n",
    "\n",
    "retriever = SecapioDataRetriever()\n",
    "# retriever = SecapioDataRetriever(api_key=...) # If you don't want to use .env file\n",
    "\n",
    "metadata = retriever.retrieve_report_metadata('10-Q', latest_from_ticker='AAPL')\n",
    "url = metadata[\"linkToFilingDetails\"]\n",
    "\n",
    "assert url.startswith('https://www.sec.gov/Archives/edgar/data/')\n",
    "url"
   ]
  },
  {
   "attachments": {},
   "cell_type": "markdown",
   "metadata": {},
   "source": [
    "### Download 10-Q HTML split into sections"
   ]
  },
  {
   "cell_type": "code",
   "execution_count": null,
   "metadata": {},
   "outputs": [],
   "source": [
    "html = retriever.get_report_html('10-Q', url)\n",
    "assert html"
   ]
  },
  {
   "cell_type": "code",
   "execution_count": null,
   "metadata": {},
   "outputs": [
    {
     "name": "stdout",
     "output_type": "stream",
     "text": [
      "<document-root-section comment=\"This tag was added...\n",
      "<span style=\"color:#000000;font-family:'Helvetica'...\n",
      "<document-root-section comment=\"This tag was added...\n",
      "<span style=\"color:#000000;font-family:'Helvetica'...\n",
      "<document-root-section comment=\"This tag was added...\n",
      "<span style=\"color:#000000;font-family:'Helvetica'...\n",
      "<document-root-section comment=\"This tag was added...\n",
      "<span style=\"color:#000000;font-family:'Helvetica'...\n",
      "<document-root-section comment=\"This tag was added...\n",
      "<span style=\"color:#000000;font-family:'Helvetica'...\n",
      "<document-root-section comment=\"This tag was added...\n",
      "<span style=\"color:#000000;font-family:'Helvetica'...\n",
      "<document-root-section comment=\"This tag was added...\n",
      "<span style=\"color:#000000;font-family:'Helvetica'...\n",
      "<document-root-section comment=\"This tag was added...\n",
      "<span style=\"color:#000000;font-family:'Helvetica'...\n",
      "<document-root-section comment=\"This tag was added...\n",
      "<span style=\"color:#000000;font-family:'Helvetica'...\n",
      "<document-root-section comment=\"This tag was added...\n",
      "<span style=\"color:#000000;font-family:'Helvetica'...\n",
      "<document-root-section comment=\"This tag was added...\n",
      "<span style=\"color:#000000;font-family:'Helvetica'...\n"
     ]
    }
   ],
   "source": [
    "for line in html.splitlines():\n",
    "    print(line[:50] + '...')"
   ]
  }
 ],
 "metadata": {
  "kernelspec": {
   "display_name": "python3",
   "language": "python",
   "name": "python3"
  }
 },
 "nbformat": 4,
 "nbformat_minor": 4
}
